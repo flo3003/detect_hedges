{
 "cells": [
  {
   "cell_type": "code",
   "execution_count": 1,
   "id": "3f165892",
   "metadata": {},
   "outputs": [],
   "source": [
    "\n",
    "import stanza\n",
    "\n",
    "import argparse\n",
    "import numpy as np\n",
    "import pandas as pd\n",
    "import torch\n",
    "import torch.nn as nn\n",
    "from transformers import AutoModel, AutoTokenizer\n",
    "import pickle \n",
    "import re\n",
    "import os\n",
    "from tqdm import tqdm\n",
    "from pathlib import Path\n",
    "from os.path import expanduser\n",
    "import json\n",
    "import functools\n",
    "import operator\n",
    "\n"
   ]
  },
  {
   "cell_type": "code",
   "execution_count": 2,
   "id": "3949f44a",
   "metadata": {},
   "outputs": [
    {
     "data": {
      "application/vnd.jupyter.widget-view+json": {
       "model_id": "babb44e7ceb44a6690da2782f9b29190",
       "version_major": 2,
       "version_minor": 0
      },
      "text/plain": [
       "Downloading https://raw.githubusercontent.com/stanfordnlp/stanza-resources/main/resources_1.4.0.json:   0%|   …"
      ]
     },
     "metadata": {},
     "output_type": "display_data"
    },
    {
     "name": "stderr",
     "output_type": "stream",
     "text": [
      "2022-08-24 11:11:02 INFO: Loading these models for language: en (English):\n",
      "============================\n",
      "| Processor    | Package   |\n",
      "----------------------------\n",
      "| tokenize     | combined  |\n",
      "| pos          | combined  |\n",
      "| lemma        | combined  |\n",
      "| depparse     | combined  |\n",
      "| sentiment    | sstplus   |\n",
      "| constituency | wsj       |\n",
      "| ner          | ontonotes |\n",
      "============================\n",
      "\n",
      "2022-08-24 11:11:02 INFO: Use device: gpu\n",
      "2022-08-24 11:11:02 INFO: Loading: tokenize\n",
      "2022-08-24 11:11:05 INFO: Loading: pos\n",
      "2022-08-24 11:11:06 INFO: Loading: lemma\n",
      "2022-08-24 11:11:06 INFO: Loading: depparse\n",
      "2022-08-24 11:11:06 INFO: Loading: sentiment\n",
      "2022-08-24 11:11:06 INFO: Loading: constituency\n",
      "2022-08-24 11:11:07 INFO: Loading: ner\n",
      "2022-08-24 11:11:07 INFO: Done loading processors!\n"
     ]
    },
    {
     "data": {
      "application/vnd.jupyter.widget-view+json": {
       "model_id": "e2e88913bed14670a2f25e08d38f838c",
       "version_major": 2,
       "version_minor": 0
      },
      "text/plain": [
       "Downloading https://raw.githubusercontent.com/stanfordnlp/stanza-resources/main/resources_1.4.0.json:   0%|   …"
      ]
     },
     "metadata": {},
     "output_type": "display_data"
    },
    {
     "name": "stderr",
     "output_type": "stream",
     "text": [
      "2022-08-24 11:11:07 INFO: Loading these models for language: en (English):\n",
      "========================\n",
      "| Processor | Package  |\n",
      "------------------------\n",
      "| tokenize  | combined |\n",
      "========================\n",
      "\n",
      "2022-08-24 11:11:07 INFO: Use device: gpu\n",
      "2022-08-24 11:11:07 INFO: Loading: tokenize\n",
      "2022-08-24 11:11:07 INFO: Done loading processors!\n"
     ]
    }
   ],
   "source": [
    "import sys\n",
    "home = expanduser(\"~\")\n",
    "\n",
    "# insert at 1, 0 is the script path (or '' in REPL)\n",
    "sys.path.insert(1, home+'/Documents/detect_hedges/')\n",
    "\n",
    "from hedge_detection import hedge_percentage"
   ]
  },
  {
   "cell_type": "code",
   "execution_count": 3,
   "id": "98c1e4a7",
   "metadata": {},
   "outputs": [],
   "source": [
    "\n",
    "\n",
    "DATA_DIR = home+'/Documents/spinos-project/data/' \n",
    "DATA_FN = 'spinos_user_history.pkl' \n",
    "with open(os.path.join(DATA_DIR, DATA_FN), \"rb\") as f:\n",
    "     df_hist = pickle.load(f)\n",
    "\n",
    "\n",
    "DATA_DIR = home+'/Documents/spinos-project/data/' \n",
    "DATA_FN = 'spinos_annotated.pkl'\n",
    "with open(os.path.join(DATA_DIR, DATA_FN), \"rb\") as f:\n",
    "     df = pickle.load(f)\n",
    "        \n",
    "        \n",
    "DATA_DIR = home+'/Documents/spinos-project/data/' \n",
    "DATA_FN = 'spinos_context.pkl'\n",
    "with open(os.path.join(DATA_DIR, DATA_FN), \"rb\") as f:\n",
    "     df_cont = pickle.load(f)"
   ]
  },
  {
   "cell_type": "code",
   "execution_count": 4,
   "id": "0e528b4f",
   "metadata": {},
   "outputs": [
    {
     "data": {
      "application/vnd.jupyter.widget-view+json": {
       "model_id": "744c505f971b4f42b1074b4af4836f04",
       "version_major": 2,
       "version_minor": 0
      },
      "text/plain": [
       "Downloading https://raw.githubusercontent.com/stanfordnlp/stanza-resources/main/resources_1.4.0.json:   0%|   …"
      ]
     },
     "metadata": {},
     "output_type": "display_data"
    },
    {
     "name": "stderr",
     "output_type": "stream",
     "text": [
      "2022-08-24 11:11:09 INFO: Loading these models for language: en (English):\n",
      "============================\n",
      "| Processor    | Package   |\n",
      "----------------------------\n",
      "| tokenize     | combined  |\n",
      "| pos          | combined  |\n",
      "| lemma        | combined  |\n",
      "| depparse     | combined  |\n",
      "| sentiment    | sstplus   |\n",
      "| constituency | wsj       |\n",
      "| ner          | ontonotes |\n",
      "============================\n",
      "\n",
      "2022-08-24 11:11:09 INFO: Use device: gpu\n",
      "2022-08-24 11:11:09 INFO: Loading: tokenize\n",
      "2022-08-24 11:11:09 INFO: Loading: pos\n",
      "2022-08-24 11:11:09 INFO: Loading: lemma\n",
      "2022-08-24 11:11:09 INFO: Loading: depparse\n",
      "2022-08-24 11:11:09 INFO: Loading: sentiment\n",
      "2022-08-24 11:11:09 INFO: Loading: constituency\n",
      "2022-08-24 11:11:10 INFO: Loading: ner\n",
      "2022-08-24 11:11:10 INFO: Done loading processors!\n"
     ]
    },
    {
     "data": {
      "application/vnd.jupyter.widget-view+json": {
       "model_id": "436d1bd4c43b40debae4d552bc933312",
       "version_major": 2,
       "version_minor": 0
      },
      "text/plain": [
       "Downloading https://raw.githubusercontent.com/stanfordnlp/stanza-resources/main/resources_1.4.0.json:   0%|   …"
      ]
     },
     "metadata": {},
     "output_type": "display_data"
    },
    {
     "name": "stderr",
     "output_type": "stream",
     "text": [
      "2022-08-24 11:11:11 INFO: Loading these models for language: en (English):\n",
      "========================\n",
      "| Processor | Package  |\n",
      "------------------------\n",
      "| tokenize  | combined |\n",
      "========================\n",
      "\n",
      "2022-08-24 11:11:11 INFO: Use device: gpu\n",
      "2022-08-24 11:11:11 INFO: Loading: tokenize\n",
      "2022-08-24 11:11:11 INFO: Done loading processors!\n"
     ]
    }
   ],
   "source": [
    "from hedge_detection_c import Load_Lexicons, Hedge_Detector\n",
    "ll = Load_Lexicons()\n",
    "lexicons = ll.load()\n",
    "\n",
    "dh = Hedge_Detector(lexicons)\n",
    "\n"
   ]
  },
  {
   "cell_type": "code",
   "execution_count": 5,
   "id": "df41a8dc",
   "metadata": {},
   "outputs": [
    {
     "name": "stderr",
     "output_type": "stream",
     "text": [
      "100it [00:50,  1.97it/s]"
     ]
    },
    {
     "name": "stdout",
     "output_type": "stream",
     "text": [
      "50.835649185\n"
     ]
    },
    {
     "name": "stderr",
     "output_type": "stream",
     "text": [
      "\n"
     ]
    }
   ],
   "source": [
    "\n",
    "import time\n",
    "start = time.process_time()\n",
    "\n",
    "list_hedges = []\n",
    "for i, row in tqdm(df.head(100).iterrows()):\n",
    "    x = row['all_text']\n",
    "    try:\n",
    "        list_hedges.append(hedge_percentage(x))\n",
    "    except:\n",
    "        print(x)\n",
    "        list_hedges.append(np.nan)\n",
    "        break\n",
    "print(time.process_time() - start)\n",
    "\n",
    "# df['hedge_percentage'] = list_hedges\n",
    "# df['hedge_percentage'] = df['hedge_percentage'].fillna(0)\n"
   ]
  },
  {
   "cell_type": "code",
   "execution_count": 6,
   "id": "52d3abf8",
   "metadata": {},
   "outputs": [
    {
     "name": "stderr",
     "output_type": "stream",
     "text": [
      "100it [00:50,  1.99it/s]"
     ]
    },
    {
     "name": "stdout",
     "output_type": "stream",
     "text": [
      "50.34972101299999\n"
     ]
    },
    {
     "name": "stderr",
     "output_type": "stream",
     "text": [
      "\n"
     ]
    }
   ],
   "source": [
    "\n",
    "start = time.process_time()\n",
    "\n",
    "list_hedges = []\n",
    "for i, row in tqdm(df.head(100).iterrows()):\n",
    "    x = row['all_text']\n",
    "    try:\n",
    "        list_hedges.append(dh.hedge_percentage(x))\n",
    "    except:\n",
    "        print(x)\n",
    "        list_hedges.append(np.nan)\n",
    "\n",
    "print(time.process_time() - start)"
   ]
  },
  {
   "cell_type": "code",
   "execution_count": null,
   "id": "b112a067",
   "metadata": {},
   "outputs": [],
   "source": []
  },
  {
   "cell_type": "code",
   "execution_count": null,
   "id": "3677b8d2",
   "metadata": {},
   "outputs": [],
   "source": []
  },
  {
   "cell_type": "code",
   "execution_count": null,
   "id": "f48552e5",
   "metadata": {},
   "outputs": [],
   "source": []
  },
  {
   "cell_type": "code",
   "execution_count": 7,
   "id": "7210db01",
   "metadata": {},
   "outputs": [],
   "source": [
    "# DATA_DIR = home+'/Documents/spinos-project/data/' \n",
    "# DATA_FN = 'spinos_annotated.pkl'\n",
    "\n",
    "# df.to_pickle(DATA_DIR+DATA_FN)"
   ]
  }
 ],
 "metadata": {
  "kernelspec": {
   "display_name": "Python [conda env:fake] *",
   "language": "python",
   "name": "conda-env-fake-py"
  },
  "language_info": {
   "codemirror_mode": {
    "name": "ipython",
    "version": 3
   },
   "file_extension": ".py",
   "mimetype": "text/x-python",
   "name": "python",
   "nbconvert_exporter": "python",
   "pygments_lexer": "ipython3",
   "version": "3.9.7"
  }
 },
 "nbformat": 4,
 "nbformat_minor": 5
}
