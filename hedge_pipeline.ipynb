{
 "cells": [
  {
   "cell_type": "code",
   "execution_count": null,
   "id": "3f165892",
   "metadata": {},
   "outputs": [],
   "source": [
    "import sys\n",
    "import os\n",
    "from os.path import expanduser\n",
    "import numpy as np\n",
    "import pandas as pd\n",
    "import pickle \n",
    "from tqdm import tqdm\n",
    "import time\n"
   ]
  },
  {
   "cell_type": "code",
   "execution_count": null,
   "id": "3949f44a",
   "metadata": {},
   "outputs": [],
   "source": [
    "home = expanduser(\"~\")\n",
    "\n",
    "directory = '<enter_directory>'\n",
    "sys.path.insert(1, home + directory + '/detect_hedges/')\n",
    "\n",
    "from hedge_detection import hedge_percentage\n",
    "from hedge_detection_c import Load_Lexicons, Hedge_Detector"
   ]
  },
  {
   "cell_type": "code",
   "execution_count": null,
   "id": "98c1e4a7",
   "metadata": {},
   "outputs": [],
   "source": [
    "DATA_DIR = '<enter_data_directory>'\n",
    "DATA_FN = '<enter_data_filename>'\n",
    "with open(os.path.join(DATA_DIR, DATA_FN), \"rb\") as f:\n",
    "     df = pickle.load(f)"
   ]
  },
  {
   "cell_type": "code",
   "execution_count": null,
   "id": "df41a8dc",
   "metadata": {},
   "outputs": [],
   "source": [
    "start = time.process_time()\n",
    "\n",
    "list_hedges = []\n",
    "for i, row in tqdm(df.head(100).iterrows()):\n",
    "    x = row['all_text']\n",
    "    try:\n",
    "        list_hedges.append(hedge_percentage(x))\n",
    "    except:\n",
    "        print(x)\n",
    "        list_hedges.append(np.nan)\n",
    "        break\n",
    "print(time.process_time() - start)"
   ]
  },
  {
   "cell_type": "code",
   "execution_count": null,
   "id": "52d3abf8",
   "metadata": {},
   "outputs": [],
   "source": [
    "ll = Load_Lexicons()\n",
    "lexicons = ll.load()\n",
    "dh = Hedge_Detector(lexicons)\n",
    "\n",
    "start = time.process_time()\n",
    "\n",
    "list_hedges = []\n",
    "for i, row in tqdm(df.head(100).iterrows()):\n",
    "    x = row['all_text']\n",
    "    try:\n",
    "        list_hedges.append(dh.hedge_percentage(x))\n",
    "    except:\n",
    "        print(x)\n",
    "        list_hedges.append(np.nan)\n",
    "\n",
    "print(time.process_time() - start)"
   ]
  }
 ],
 "metadata": {
  "kernelspec": {
   "display_name": "Python [conda env:fake] *",
   "language": "python",
   "name": "conda-env-fake-py"
  },
  "language_info": {
   "codemirror_mode": {
    "name": "ipython",
    "version": 3
   },
   "file_extension": ".py",
   "mimetype": "text/x-python",
   "name": "python",
   "nbconvert_exporter": "python",
   "pygments_lexer": "ipython3",
   "version": "3.9.7"
  }
 },
 "nbformat": 4,
 "nbformat_minor": 5
}
